{
 "cells": [
  {
   "cell_type": "code",
   "execution_count": 1,
   "id": "b5d2a2b6-1613-4164-94fa-9e11d89d5631",
   "metadata": {},
   "outputs": [],
   "source": [
    "import requests\n",
    "import zipfile"
   ]
  },
  {
   "cell_type": "code",
   "execution_count": 11,
   "id": "b3593255-9648-4259-91d2-34d748610795",
   "metadata": {},
   "outputs": [],
   "source": [
    "url = \"https://survey.stackoverflow.co/datasets/stack-overflow-developer-survey-2024.zip\"\n",
    "zip_file = requests.get(url, stream=True)"
   ]
  },
  {
   "cell_type": "code",
   "execution_count": 13,
   "id": "053b0b42-040d-4d99-adb5-9e07bb7fc230",
   "metadata": {},
   "outputs": [
    {
     "data": {
      "text/plain": [
       "200"
      ]
     },
     "execution_count": 13,
     "metadata": {},
     "output_type": "execute_result"
    }
   ],
   "source": [
    "zip_file.status_code"
   ]
  },
  {
   "cell_type": "code",
   "execution_count": 20,
   "id": "158f65c8-d403-49cf-95ee-369f76fe987a",
   "metadata": {},
   "outputs": [
    {
     "data": {
      "text/plain": [
       "'application/zip'"
      ]
     },
     "execution_count": 20,
     "metadata": {},
     "output_type": "execute_result"
    }
   ],
   "source": [
    "(zip_file.headers.get(\"Content-Type\"))"
   ]
  },
  {
   "cell_type": "code",
   "execution_count": 19,
   "id": "1e5a0dcb-756c-4152-9cb7-f19e619faa50",
   "metadata": {},
   "outputs": [
    {
     "name": "stdout",
     "output_type": "stream",
     "text": [
      "None\n"
     ]
    }
   ],
   "source": [
    "print(zip_file.headers.get(\"Content-Disposition\"))"
   ]
  },
  {
   "cell_type": "code",
   "execution_count": null,
   "id": "d06402e2-c690-4eb8-ba1e-884e6e086c87",
   "metadata": {},
   "outputs": [],
   "source": [
    "with open(\"survey_2024.zip\", \"wb\")"
   ]
  }
 ],
 "metadata": {
  "kernelspec": {
   "display_name": "Python 3 (ipykernel)",
   "language": "python",
   "name": "python3"
  },
  "language_info": {
   "codemirror_mode": {
    "name": "ipython",
    "version": 3
   },
   "file_extension": ".py",
   "mimetype": "text/x-python",
   "name": "python",
   "nbconvert_exporter": "python",
   "pygments_lexer": "ipython3",
   "version": "3.12.1"
  }
 },
 "nbformat": 4,
 "nbformat_minor": 5
}
